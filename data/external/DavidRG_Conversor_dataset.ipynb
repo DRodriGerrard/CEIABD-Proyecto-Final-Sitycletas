{
  "cells": [
    {
      "cell_type": "markdown",
      "metadata": {
        "id": "S9R7iuEG2gpN"
      },
      "source": [
        "<h2>Unir varios CSV en uno</h2>\n",
        "\n",
        "El porgrama lee un archivo .zip con los CSV dentro"
      ]
    },
    {
      "cell_type": "code",
      "execution_count": 5,
      "metadata": {
        "colab": {
          "base_uri": "https://localhost:8080/"
        },
        "id": "yP5Gj7ZP1MOb",
        "outputId": "026ccb74-7d02-43f6-969f-c5546eded028"
      },
      "outputs": [
        {
          "name": "stdout",
          "output_type": "stream",
          "text": [
            "Archivo descomprimido en: datasets/\n",
            "Archivos encontrados: 17\n",
            "       Place number          Time stamp  Free bikes\n",
            "95998          3400 2023-12-01 00:06:00           0\n",
            "95999          3417 2023-12-01 00:08:00           7\n",
            "96000          3472 2023-12-01 00:08:00           0\n",
            "96001          3416 2023-12-01 00:12:00           9\n",
            "96002          3412 2023-12-01 00:18:00           5\n",
            "\n",
            "Total de registros combinados: 1444050\n",
            "\n",
            "Dataset combinado guardado en: sitycleta_2024_2025_combined.csv\n"
          ]
        }
      ],
      "source": [
        "import pandas as pd\n",
        "import zipfile\n",
        "import os\n",
        "import glob\n",
        "\n",
        "# ============================\n",
        "# 📥 Ruta al archivo .zip\n",
        "# ============================\n",
        "zip_path = 'Bicicletas_Sitycleta.zip'  # 👈 cambia nombre si es distinto\n",
        "extract_path = 'datasets/'\n",
        "\n",
        "# ============================\n",
        "# 🎯 Descomprimir archivo .zip\n",
        "# ============================\n",
        "with zipfile.ZipFile(zip_path, 'r') as zip_ref:\n",
        "    zip_ref.extractall(extract_path)\n",
        "\n",
        "print(f\"Archivo descomprimido en: {extract_path}\")\n",
        "\n",
        "# ============================\n",
        "# 🔎 Buscar todos los archivos de Bicicletas disponibles dentro del zip\n",
        "# ============================\n",
        "file_list = glob.glob(os.path.join(extract_path, '*Bicicletas-disponibles-en-bases-*.xlsx')) #Modificar el nombre de los contenidos\n",
        "print(f\"Archivos encontrados: {len(file_list)}\")\n",
        "\n",
        "# ============================\n",
        "# 📥 Leer y concatenar todos los archivos\n",
        "# ============================\n",
        "df_list = []\n",
        "for file in file_list:\n",
        "    df_temp = pd.read_excel(file)\n",
        "    df_list.append(df_temp)\n",
        "\n",
        "df_combined = pd.concat(df_list, ignore_index=True)\n",
        "\n",
        "# ============================\n",
        "# 🕑 Convertir a datetime y ordenar\n",
        "# ============================\n",
        "df_combined['Time stamp'] = pd.to_datetime(df_combined['Time stamp'])\n",
        "df_combined.sort_values(by='Time stamp', inplace=True)\n",
        "\n",
        "# ============================\n",
        "# ✅ Mostrar dataset final combinado\n",
        "# ============================\n",
        "print(df_combined.head())\n",
        "print(f\"\\nTotal de registros combinados: {df_combined.shape[0]}\")\n",
        "\n",
        "# ============================\n",
        "# 💾 Guardar en CSV para trabajar después\n",
        "# ============================\n",
        "output_path = 'sitycleta_2024_2025_combined.csv'\n",
        "df_combined.to_csv(output_path, index=False)\n",
        "print(f\"\\nDataset combinado guardado en: {output_path}\")"
      ]
    },
    {
      "cell_type": "markdown",
      "metadata": {
        "id": "qb82yVR26FO0"
      },
      "source": [
        "<h3>Añadir variables de calendario</h3>"
      ]
    },
    {
      "cell_type": "code",
      "execution_count": 3,
      "metadata": {
        "colab": {
          "base_uri": "https://localhost:8080/"
        },
        "id": "uNyjt-mK2o3D",
        "outputId": "898ade30-6f16-4cec-aeeb-ad1515db38e4"
      },
      "outputs": [
        {
          "name": "stdout",
          "output_type": "stream",
          "text": [
            "   Place number          Time stamp  Free bikes  hour_of_day  day_of_week  \\\n",
            "0          3400 2023-12-01 00:06:00           0            0            4   \n",
            "1          3417 2023-12-01 00:08:00           7            0            4   \n",
            "2          3472 2023-12-01 00:08:00           0            0            4   \n",
            "3          3416 2023-12-01 00:12:00           9            0            4   \n",
            "4          3412 2023-12-01 00:18:00           5            0            4   \n",
            "\n",
            "   is_weekend  month  week_of_year  \n",
            "0           0     12            48  \n",
            "1           0     12            48  \n",
            "2           0     12            48  \n",
            "3           0     12            48  \n",
            "4           0     12            48  \n"
          ]
        }
      ],
      "source": [
        "import pandas as pd\n",
        "\n",
        "# Cargar dataset\n",
        "df = pd.read_csv('/content/sitycleta_2024_2025_combined.csv')\n",
        "df['Time stamp'] = pd.to_datetime(df['Time stamp'])\n",
        "\n",
        "# Crear variables de calendario\n",
        "df['hour_of_day'] = df['Time stamp'].dt.hour\n",
        "df['day_of_week'] = df['Time stamp'].dt.dayofweek   # Lunes=0, Domingo=6\n",
        "df['is_weekend'] = df['day_of_week'].isin([5,6]).astype(int)\n",
        "df['month'] = df['Time stamp'].dt.month\n",
        "df['week_of_year'] = df['Time stamp'].dt.isocalendar().week\n",
        "\n",
        "print(df.head())"
      ]
    },
    {
      "cell_type": "markdown",
      "metadata": {
        "id": "JYdkbMdL6TL5"
      },
      "source": [
        "<h3>Añadir festivos con python-holidays</h3>"
      ]
    },
    {
      "cell_type": "code",
      "execution_count": 7,
      "metadata": {
        "colab": {
          "base_uri": "https://localhost:8080/"
        },
        "id": "L98unv3v6VWo",
        "outputId": "7fdc6b2e-511d-4fcf-d89c-f9312fcb0acb"
      },
      "outputs": [
        {
          "name": "stdout",
          "output_type": "stream",
          "text": [
            "Requirement already satisfied: holidays in /usr/local/lib/python3.11/dist-packages (0.72)\n",
            "Requirement already satisfied: python-dateutil in /usr/local/lib/python3.11/dist-packages (from holidays) (2.9.0.post0)\n",
            "Requirement already satisfied: six>=1.5 in /usr/local/lib/python3.11/dist-packages (from python-dateutil->holidays) (1.17.0)\n"
          ]
        }
      ],
      "source": [
        "!pip install holidays"
      ]
    },
    {
      "cell_type": "code",
      "execution_count": 2,
      "metadata": {
        "colab": {
          "base_uri": "https://localhost:8080/"
        },
        "id": "PrAT1vHD6Tek",
        "outputId": "1aa30205-9f20-41b7-b7df-4d167198509f"
      },
      "outputs": [
        {
          "name": "stdout",
          "output_type": "stream",
          "text": [
            "2024-01-01: New Year's Day\n",
            "2024-01-06: Epiphany\n",
            "2024-03-28: Maundy Thursday\n",
            "2024-03-29: Good Friday\n",
            "2024-05-01: Labor Day\n",
            "2024-05-30: Day of the Canary Islands\n",
            "2024-08-15: Assumption Day\n",
            "2024-10-12: National Day\n",
            "2024-11-01: All Saints' Day\n",
            "2024-12-06: Constitution Day\n",
            "2024-12-25: Christmas Day\n",
            "2025-01-01: New Year's Day\n",
            "2025-01-06: Epiphany\n",
            "2025-04-17: Maundy Thursday\n",
            "2025-04-18: Good Friday\n",
            "2025-05-01: Labor Day\n",
            "2025-05-30: Day of the Canary Islands\n",
            "2025-08-15: Assumption Day\n",
            "2025-11-01: All Saints' Day\n",
            "2025-12-06: Constitution Day\n",
            "2025-12-08: Immaculate Conception\n",
            "2025-12-25: Christmas Day\n"
          ]
        }
      ],
      "source": [
        "import holidays\n",
        "\n",
        "canarias_holidays = holidays.CountryHoliday('ES', subdiv='CN', years=[2024, 2025])\n",
        "\n",
        "for date, name in sorted(canarias_holidays.items()):\n",
        "    print(f\"{date}: {name}\")\n"
      ]
    },
    {
      "cell_type": "markdown",
      "metadata": {
        "id": "TIcS4oMuvcmk"
      },
      "source": [
        "2024-01-01: Año Nuevo\n",
        "\n",
        "2024-01-06: Epifanía del Señor\n",
        "\n",
        "2024-03-28: Jueves Santo\n",
        "\n",
        "2024-03-29: Viernes Santo\n",
        "\n",
        "2024-05-01: Día del Trabajador\n",
        "\n",
        "2024-05-30: Día de Canarias\n",
        "\n",
        "2024-08-15: Asunción de la Virgen\n",
        "\n",
        "2024-10-12: Fiesta Nacional de España\n",
        "\n",
        "2024-11-01: Todos los Santos\n",
        "\n",
        "2024-12-06: Día de la Constitución\n",
        "\n",
        "2024-12-25: Navidad"
      ]
    },
    {
      "cell_type": "markdown",
      "metadata": {
        "id": "e_sbzKFJvzxI"
      },
      "source": [
        "<h3>Añadir datos meteorológicos (Meteostat)</h3>"
      ]
    },
    {
      "cell_type": "code",
      "execution_count": 1,
      "metadata": {
        "colab": {
          "base_uri": "https://localhost:8080/"
        },
        "id": "ygPAYRQav59E",
        "outputId": "56071db2-aafe-4b47-c47f-8e032b8ad763"
      },
      "outputs": [
        {
          "name": "stdout",
          "output_type": "stream",
          "text": [
            "Collecting meteostat\n",
            "  Downloading meteostat-1.6.8-py3-none-any.whl.metadata (4.6 kB)\n",
            "Requirement already satisfied: pandas>=1.1 in /usr/local/lib/python3.11/dist-packages (from meteostat) (2.2.2)\n",
            "Requirement already satisfied: pytz in /usr/local/lib/python3.11/dist-packages (from meteostat) (2025.2)\n",
            "Requirement already satisfied: numpy in /usr/local/lib/python3.11/dist-packages (from meteostat) (2.0.2)\n",
            "Requirement already satisfied: python-dateutil>=2.8.2 in /usr/local/lib/python3.11/dist-packages (from pandas>=1.1->meteostat) (2.9.0.post0)\n",
            "Requirement already satisfied: tzdata>=2022.7 in /usr/local/lib/python3.11/dist-packages (from pandas>=1.1->meteostat) (2025.2)\n",
            "Requirement already satisfied: six>=1.5 in /usr/local/lib/python3.11/dist-packages (from python-dateutil>=2.8.2->pandas>=1.1->meteostat) (1.17.0)\n",
            "Downloading meteostat-1.6.8-py3-none-any.whl (31 kB)\n",
            "Installing collected packages: meteostat\n",
            "Successfully installed meteostat-1.6.8\n"
          ]
        }
      ],
      "source": [
        "!pip install meteostat"
      ]
    },
    {
      "cell_type": "code",
      "execution_count": 4,
      "metadata": {
        "colab": {
          "base_uri": "https://localhost:8080/"
        },
        "id": "WJoi8eM_v0EZ",
        "outputId": "a6e9d6ed-c6d1-4a68-ad79-837850f9bfad"
      },
      "outputs": [
        {
          "name": "stdout",
          "output_type": "stream",
          "text": [
            "\n",
            "Estación meteorológica seleccionada:\n",
            "                                name country region    wmo  icao  latitude  \\\n",
            "id                                                                           \n",
            "60030  Gran Canaria - Canary Islands      ES     CN  60030  GCLP   27.9333   \n",
            "\n",
            "       longitude  elevation       timezone hourly_start hourly_end  \\\n",
            "id                                                                   \n",
            "60030   -15.3833       23.0  Europe/Madrid   1950-03-16 2025-05-12   \n",
            "\n",
            "      daily_start  daily_end monthly_start monthly_end      distance  \n",
            "id                                                                    \n",
            "60030  1957-01-20 2025-05-09    1957-01-01  2022-01-01  21779.668274  \n"
          ]
        },
        {
          "name": "stderr",
          "output_type": "stream",
          "text": [
            "FutureWarning: Support for nested sequences for 'parse_dates' in pd.read_csv is deprecated. Combine the desired columns with pd.to_datetime after parsing instead.\n",
            "FutureWarning: Support for nested sequences for 'parse_dates' in pd.read_csv is deprecated. Combine the desired columns with pd.to_datetime after parsing instead.\n",
            "FutureWarning: Support for nested sequences for 'parse_dates' in pd.read_csv is deprecated. Combine the desired columns with pd.to_datetime after parsing instead.\n"
          ]
        },
        {
          "name": "stdout",
          "output_type": "stream",
          "text": [
            "   Place number          Time stamp  Free bikes  hour_of_day  day_of_week  \\\n",
            "0          3400 2023-12-01 00:06:00           0            0            4   \n",
            "1          3417 2023-12-01 00:08:00           7            0            4   \n",
            "2          3472 2023-12-01 00:08:00           0            0            4   \n",
            "3          3416 2023-12-01 00:12:00           9            0            4   \n",
            "4          3412 2023-12-01 00:18:00           5            0            4   \n",
            "\n",
            "   is_weekend  month  week_of_year  temp_c  precip_mm  wind_speed_kmh  \n",
            "0           0     12            48    20.1        0.0            25.9  \n",
            "1           0     12            48    20.1        0.0            25.9  \n",
            "2           0     12            48    20.1        0.0            25.9  \n",
            "3           0     12            48    20.1        0.0            25.9  \n",
            "4           0     12            48    20.1        0.0            25.9  \n"
          ]
        }
      ],
      "source": [
        "from meteostat import Hourly, Stations\n",
        "from datetime import datetime\n",
        "\n",
        "# Definir periodo de tiempo\n",
        "start = datetime(2023, 12, 1)\n",
        "end = datetime(2025, 4, 30)\n",
        "\n",
        "# Buscar estación meteorológica más cercana a Las Palmas (aprox lat, lon)\n",
        "stations = Stations()\n",
        "stations = stations.nearby(28.1235, -15.4363)\n",
        "station = stations.fetch(1)\n",
        "\n",
        "print(\"\\nEstación meteorológica seleccionada:\")\n",
        "print(station)\n",
        "\n",
        "# Descargar datos horarios\n",
        "data_weather = Hourly(station.index[0], start, end)\n",
        "data_weather = data_weather.fetch()\n",
        "\n",
        "# Reset index para merge\n",
        "data_weather = data_weather.reset_index()\n",
        "\n",
        "# Redondear timestamp a hora\n",
        "data_weather['time'] = data_weather['time'].dt.floor('h')\n",
        "\n",
        "# Redondear dataset bicicletas a hora\n",
        "df['hour'] = df['Time stamp'].dt.floor('h')\n",
        "\n",
        "# Merge clima + dataset bicicletas\n",
        "df = pd.merge(df, data_weather[['time', 'temp', 'prcp', 'wspd']], how='left',\n",
        "              left_on='hour', right_on='time')\n",
        "\n",
        "# Renombrar columnas\n",
        "df.rename(columns={'temp': 'temp_c', 'prcp': 'precip_mm', 'wspd': 'wind_speed_kmh'}, inplace=True)\n",
        "\n",
        "# Eliminar columnas auxiliares\n",
        "df.drop(['hour', 'time'], axis=1, inplace=True)\n",
        "\n",
        "print(df.head())\n"
      ]
    },
    {
      "cell_type": "markdown",
      "metadata": {
        "id": "JJ6570UdwRL4"
      },
      "source": [
        "<h3>Añadir todo al dataset CSV</h3>\n",
        "\n",
        "El dataset resultante se usará en el proyecto."
      ]
    },
    {
      "cell_type": "code",
      "execution_count": 6,
      "metadata": {
        "colab": {
          "base_uri": "https://localhost:8080/"
        },
        "id": "FyCwAT5Mx9xx",
        "outputId": "e1b7cec5-5b61-409e-e891-49469773a5be"
      },
      "outputs": [
        {
          "name": "stdout",
          "output_type": "stream",
          "text": [
            "\n",
            "Días festivos de Canarias encontrados en tu dataset:\n",
            "2024-01-01: Año Nuevo\n",
            "2024-01-06: Epifanía del Señor\n",
            "2024-03-28: Jueves Santo\n",
            "2024-03-29: Viernes Santo\n",
            "2024-05-01: Labor Day\n",
            "2024-05-30: Día de Canarias\n",
            "2024-08-15: Assumption Day\n",
            "2024-10-12: Fiesta Nacional de España\n",
            "2024-11-01: Todos los Santos\n",
            "2024-12-06: Día de la Constitución\n",
            "2024-12-25: Navidad\n",
            "2025-01-01: Año Nuevo\n",
            "2025-01-06: Epifanía del Señor\n",
            "2025-04-17: Jueves Santo\n",
            "2025-04-18: Viernes Santo\n",
            "\n",
            "Estación meteorológica seleccionada:\n",
            "                                name country region    wmo  icao  latitude  \\\n",
            "id                                                                           \n",
            "60030  Gran Canaria - Canary Islands      ES     CN  60030  GCLP   27.9333   \n",
            "\n",
            "       longitude  elevation       timezone hourly_start hourly_end  \\\n",
            "id                                                                   \n",
            "60030   -15.3833       23.0  Europe/Madrid   1950-03-16 2025-05-12   \n",
            "\n",
            "      daily_start  daily_end monthly_start monthly_end  distance  \n",
            "id                                                                \n",
            "60030  1957-01-20 2025-05-09    1957-01-01  2022-01-01       0.0  \n",
            "\n",
            "✅ Dataset enriquecido guardado en: /content/sitycleta_dataset_enriched.csv\n",
            "Registros totales: 1444050\n"
          ]
        }
      ],
      "source": [
        "import pandas as pd\n",
        "import holidays\n",
        "from meteostat import Hourly, Stations\n",
        "from datetime import datetime\n",
        "\n",
        "# ============================\n",
        "# 📥 Cargar dataset base\n",
        "# ============================\n",
        "df = pd.read_csv('/content/sitycleta_2024_2025_combined.csv')\n",
        "df['Time stamp'] = pd.to_datetime(df['Time stamp'])\n",
        "\n",
        "# ============================\n",
        "# 📅 Añadir variables calendario\n",
        "# ============================\n",
        "df['hour_of_day'] = df['Time stamp'].dt.hour\n",
        "df['day_of_week'] = df['Time stamp'].dt.dayofweek\n",
        "df['is_weekend'] = df['day_of_week'].isin([5,6]).astype(int)\n",
        "df['month'] = df['Time stamp'].dt.month\n",
        "df['week_of_year'] = df['Time stamp'].dt.isocalendar().week\n",
        "\n",
        "# ============================\n",
        "# 🎉 Añadir festivos (Canarias)\n",
        "# ============================\n",
        "canarias_holidays = holidays.Spain(subdiv='CN', years=[2024, 2025])\n",
        "df['is_holiday'] = df['Time stamp'].dt.date.isin(canarias_holidays).astype(int)\n",
        "\n",
        "# Mostrar festivos encontrados\n",
        "translations = {\n",
        "    'New Year\\'s Day': 'Año Nuevo',\n",
        "    'Epiphany': 'Epifanía del Señor',\n",
        "    'Good Friday': 'Viernes Santo',\n",
        "    'Labour Day': 'Día del Trabajador',\n",
        "    'Assumption of Mary': 'Asunción de la Virgen',\n",
        "    'All Saints\\' Day': 'Todos los Santos',\n",
        "    'Immaculate Conception': 'Inmaculada Concepción',\n",
        "    'Christmas Day': 'Navidad',\n",
        "    'Maundy Thursday': 'Jueves Santo',\n",
        "    'Day of the Canary Islands': 'Día de Canarias',\n",
        "    'National Day': 'Fiesta Nacional de España',\n",
        "    'Constitution Day': 'Día de la Constitución'\n",
        "}\n",
        "\n",
        "unique_dates = sorted(set(df['Time stamp'].dt.date.unique()) & set(canarias_holidays.keys()))\n",
        "print(\"\\nDías festivos de Canarias encontrados en tu dataset:\")\n",
        "for date in unique_dates:\n",
        "    original_name = canarias_holidays.get(date)\n",
        "    name_es = translations.get(original_name, original_name)\n",
        "    print(f\"{date}: {name_es}\")\n",
        "\n",
        "# ============================\n",
        "# 🌦️ Añadir datos meteorológicos (Meteostat)\n",
        "# ============================\n",
        "start = datetime(2023, 12, 1)\n",
        "end = datetime(2025, 4, 30)\n",
        "\n",
        "stations = Stations()\n",
        "stations = stations.nearby(27.9333, -15.3833)  # Gran Canaria\n",
        "station = stations.fetch(1)\n",
        "\n",
        "print(\"\\nEstación meteorológica seleccionada:\")\n",
        "print(station)\n",
        "\n",
        "data_weather = Hourly(station.index[0], start, end)\n",
        "data_weather = data_weather.fetch().reset_index()\n",
        "data_weather['time'] = data_weather['time'].dt.floor('h')\n",
        "df['hour'] = df['Time stamp'].dt.floor('h')\n",
        "\n",
        "df = pd.merge(df, data_weather[['time', 'temp', 'prcp', 'wspd']],\n",
        "              how='left', left_on='hour', right_on='time')\n",
        "df.rename(columns={'temp': 'temp_c', 'prcp': 'precip_mm', 'wspd': 'wind_speed_kmh'}, inplace=True)\n",
        "df.drop(['hour', 'time'], axis=1, inplace=True)\n",
        "\n",
        "# ============================\n",
        "# 💾 Guardar dataset final\n",
        "# ============================\n",
        "output_path = '/content/sitycleta_dataset_enriched.csv'\n",
        "df.to_csv(output_path, index=False)\n",
        "print(f\"\\n✅ Dataset enriquecido guardado en: {output_path}\")\n",
        "print(f\"Registros totales: {df.shape[0]}\")"
      ]
    }
  ],
  "metadata": {
    "colab": {
      "provenance": []
    },
    "kernelspec": {
      "display_name": "Python 3",
      "name": "python3"
    },
    "language_info": {
      "name": "python"
    }
  },
  "nbformat": 4,
  "nbformat_minor": 0
}
