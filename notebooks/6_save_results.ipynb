{
 "cells": [
  {
   "cell_type": "code",
   "execution_count": 1,
   "id": "ac4071d4",
   "metadata": {},
   "outputs": [],
   "source": [
    "%run ../imports.py"
   ]
  },
  {
   "cell_type": "code",
   "execution_count": 2,
   "id": "369a702c",
   "metadata": {},
   "outputs": [],
   "source": [
    "# Cargar modelo guardado previamente\n",
    "modelo_lgb = joblib.load('../models/modelo_lightgbm.pkl')"
   ]
  },
  {
   "cell_type": "code",
   "execution_count": 3,
   "id": "9a096dc5",
   "metadata": {},
   "outputs": [],
   "source": [
    "# Cargar predicciones finales guardadas previamente\n",
    "df_preds = pd.read_csv('../data/predicted/predicciones_lightgbm.csv')"
   ]
  }
 ],
 "metadata": {
  "kernelspec": {
   "display_name": "base",
   "language": "python",
   "name": "python3"
  },
  "language_info": {
   "codemirror_mode": {
    "name": "ipython",
    "version": 3
   },
   "file_extension": ".py",
   "mimetype": "text/x-python",
   "name": "python",
   "nbconvert_exporter": "python",
   "pygments_lexer": "ipython3",
   "version": "3.12.7"
  }
 },
 "nbformat": 4,
 "nbformat_minor": 5
}
