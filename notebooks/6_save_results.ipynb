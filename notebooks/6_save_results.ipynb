{
 "cells": [
  {
   "cell_type": "code",
   "execution_count": 1,
   "id": "be8e76b3",
   "metadata": {},
   "outputs": [
    {
     "name": "stdout",
     "output_type": "stream",
     "text": [
      "Requirement already satisfied: pandas in c:\\users\\devroger\\anaconda3\\lib\\site-packages (from -r ../requirements.txt (line 2)) (2.2.3)\n",
      "Requirement already satisfied: numpy in c:\\users\\devroger\\anaconda3\\lib\\site-packages (from -r ../requirements.txt (line 3)) (2.0.1)\n",
      "Requirement already satisfied: matplotlib in c:\\users\\devroger\\anaconda3\\lib\\site-packages (from -r ../requirements.txt (line 4)) (3.10.0)\n",
      "Requirement already satisfied: seaborn in c:\\users\\devroger\\anaconda3\\lib\\site-packages (from -r ../requirements.txt (line 5)) (0.13.2)\n",
      "Requirement already satisfied: scikit-learn in c:\\users\\devroger\\anaconda3\\lib\\site-packages (from -r ../requirements.txt (line 6)) (1.6.1)\n",
      "Requirement already satisfied: xgboost in c:\\users\\devroger\\anaconda3\\lib\\site-packages (from -r ../requirements.txt (line 7)) (3.0.1)\n",
      "Requirement already satisfied: lightgbm in c:\\users\\devroger\\anaconda3\\lib\\site-packages (from -r ../requirements.txt (line 8)) (4.6.0)\n",
      "Requirement already satisfied: prophet in c:\\users\\devroger\\anaconda3\\lib\\site-packages (from -r ../requirements.txt (line 9)) (1.1.5)\n",
      "Collecting flask (from -r ../requirements.txt (line 10))\n",
      "  Downloading flask-3.1.1-py3-none-any.whl.metadata (3.0 kB)\n",
      "Requirement already satisfied: joblib in c:\\users\\devroger\\anaconda3\\lib\\site-packages (from -r ../requirements.txt (line 11)) (1.5.0)\n",
      "Requirement already satisfied: python-dateutil>=2.8.2 in c:\\users\\devroger\\anaconda3\\lib\\site-packages (from pandas->-r ../requirements.txt (line 2)) (2.9.0.post0)\n",
      "Requirement already satisfied: pytz>=2020.1 in c:\\users\\devroger\\anaconda3\\lib\\site-packages (from pandas->-r ../requirements.txt (line 2)) (2025.2)\n",
      "Requirement already satisfied: tzdata>=2022.7 in c:\\users\\devroger\\anaconda3\\lib\\site-packages (from pandas->-r ../requirements.txt (line 2)) (2025.2)\n",
      "Requirement already satisfied: contourpy>=1.0.1 in c:\\users\\devroger\\anaconda3\\lib\\site-packages (from matplotlib->-r ../requirements.txt (line 4)) (1.3.1)\n",
      "Requirement already satisfied: cycler>=0.10 in c:\\users\\devroger\\anaconda3\\lib\\site-packages (from matplotlib->-r ../requirements.txt (line 4)) (0.11.0)\n",
      "Requirement already satisfied: fonttools>=4.22.0 in c:\\users\\devroger\\anaconda3\\lib\\site-packages (from matplotlib->-r ../requirements.txt (line 4)) (4.55.3)\n",
      "Requirement already satisfied: kiwisolver>=1.3.1 in c:\\users\\devroger\\anaconda3\\lib\\site-packages (from matplotlib->-r ../requirements.txt (line 4)) (1.4.8)\n",
      "Requirement already satisfied: packaging>=20.0 in c:\\users\\devroger\\anaconda3\\lib\\site-packages (from matplotlib->-r ../requirements.txt (line 4)) (25.0)\n",
      "Requirement already satisfied: pillow>=8 in c:\\users\\devroger\\anaconda3\\lib\\site-packages (from matplotlib->-r ../requirements.txt (line 4)) (11.2.1)\n",
      "Requirement already satisfied: pyparsing>=2.3.1 in c:\\users\\devroger\\anaconda3\\lib\\site-packages (from matplotlib->-r ../requirements.txt (line 4)) (3.2.0)\n",
      "Requirement already satisfied: scipy>=1.6.0 in c:\\users\\devroger\\anaconda3\\lib\\site-packages (from scikit-learn->-r ../requirements.txt (line 6)) (1.15.3)\n",
      "Requirement already satisfied: threadpoolctl>=3.1.0 in c:\\users\\devroger\\anaconda3\\lib\\site-packages (from scikit-learn->-r ../requirements.txt (line 6)) (3.6.0)\n",
      "Requirement already satisfied: cmdstanpy>=1.0.4 in c:\\users\\devroger\\anaconda3\\lib\\site-packages (from prophet->-r ../requirements.txt (line 9)) (1.2.5)\n",
      "Requirement already satisfied: holidays>=0.25 in c:\\users\\devroger\\anaconda3\\lib\\site-packages (from prophet->-r ../requirements.txt (line 9)) (0.72)\n",
      "Requirement already satisfied: tqdm>=4.36.1 in c:\\users\\devroger\\anaconda3\\lib\\site-packages (from prophet->-r ../requirements.txt (line 9)) (4.67.1)\n",
      "Requirement already satisfied: importlib-resources in c:\\users\\devroger\\anaconda3\\lib\\site-packages (from prophet->-r ../requirements.txt (line 9)) (6.5.2)\n",
      "Collecting blinker>=1.9.0 (from flask->-r ../requirements.txt (line 10))\n",
      "  Downloading blinker-1.9.0-py3-none-any.whl.metadata (1.6 kB)\n",
      "Requirement already satisfied: click>=8.1.3 in c:\\users\\devroger\\anaconda3\\lib\\site-packages (from flask->-r ../requirements.txt (line 10)) (8.1.7)\n",
      "Collecting itsdangerous>=2.2.0 (from flask->-r ../requirements.txt (line 10))\n",
      "  Downloading itsdangerous-2.2.0-py3-none-any.whl.metadata (1.9 kB)\n",
      "Requirement already satisfied: jinja2>=3.1.2 in c:\\users\\devroger\\anaconda3\\lib\\site-packages (from flask->-r ../requirements.txt (line 10)) (3.1.4)\n",
      "Requirement already satisfied: markupsafe>=2.1.1 in c:\\users\\devroger\\anaconda3\\lib\\site-packages (from flask->-r ../requirements.txt (line 10)) (2.1.3)\n",
      "Collecting werkzeug>=3.1.0 (from flask->-r ../requirements.txt (line 10))\n",
      "  Downloading werkzeug-3.1.3-py3-none-any.whl.metadata (3.7 kB)\n",
      "Requirement already satisfied: colorama in c:\\users\\devroger\\anaconda3\\lib\\site-packages (from click>=8.1.3->flask->-r ../requirements.txt (line 10)) (0.4.6)\n",
      "Requirement already satisfied: stanio<2.0.0,>=0.4.0 in c:\\users\\devroger\\anaconda3\\lib\\site-packages (from cmdstanpy>=1.0.4->prophet->-r ../requirements.txt (line 9)) (0.5.1)\n",
      "Requirement already satisfied: six>=1.5 in c:\\users\\devroger\\anaconda3\\lib\\site-packages (from python-dateutil>=2.8.2->pandas->-r ../requirements.txt (line 2)) (1.17.0)\n",
      "Downloading flask-3.1.1-py3-none-any.whl (103 kB)\n",
      "Downloading blinker-1.9.0-py3-none-any.whl (8.5 kB)\n",
      "Downloading itsdangerous-2.2.0-py3-none-any.whl (16 kB)\n",
      "Downloading werkzeug-3.1.3-py3-none-any.whl (224 kB)\n",
      "Installing collected packages: werkzeug, itsdangerous, blinker, flask\n",
      "Successfully installed blinker-1.9.0 flask-3.1.1 itsdangerous-2.2.0 werkzeug-3.1.3\n",
      "Note: you may need to restart the kernel to use updated packages.\n"
     ]
    },
    {
     "name": "stderr",
     "output_type": "stream",
     "text": [
      "ERROR: pip's dependency resolver does not currently take into account all the packages that are installed. This behaviour is the source of the following dependency conflicts.\n",
      "tensorboard 2.18.0 requires markdown>=2.6.8, which is not installed.\n",
      "tensorboard 2.18.0 requires protobuf!=4.24.0,>=3.19.6, which is not installed.\n",
      "tensorflow-intel 2.18.0 requires h5py>=3.11.0, which is not installed.\n",
      "tensorflow-intel 2.18.0 requires protobuf!=4.21.0,!=4.21.1,!=4.21.2,!=4.21.3,!=4.21.4,!=4.21.5,<6.0.0dev,>=3.20.3, which is not installed.\n",
      "tensorflow-intel 2.18.0 requires wrapt>=1.11.0, which is not installed.\n"
     ]
    }
   ],
   "source": [
    "# Instalar todos los paquetes del requirements.txt desde el notebook\n",
    "%pip install -r ../requirements.txt"
   ]
  },
  {
   "cell_type": "code",
   "execution_count": 1,
   "id": "ac4071d4",
   "metadata": {},
   "outputs": [],
   "source": [
    "%run ../imports.py"
   ]
  },
  {
   "cell_type": "code",
   "execution_count": 3,
   "id": "369a702c",
   "metadata": {},
   "outputs": [],
   "source": [
    "# Cargar modelo guardado previamente\n",
    "modelo_lgb = joblib.load('../models/modelo_lightgbm.pkl')"
   ]
  },
  {
   "cell_type": "code",
   "execution_count": 2,
   "id": "9a096dc5",
   "metadata": {},
   "outputs": [],
   "source": [
    "# Cargar predicciones finales guardadas previamente\n",
    "df_preds = pd.read_csv('../data/predicted/predicciones_lightgbm.csv')"
   ]
  }
 ],
 "metadata": {
  "kernelspec": {
   "display_name": "base",
   "language": "python",
   "name": "python3"
  },
  "language_info": {
   "codemirror_mode": {
    "name": "ipython",
    "version": 3
   },
   "file_extension": ".py",
   "mimetype": "text/x-python",
   "name": "python",
   "nbconvert_exporter": "python",
   "pygments_lexer": "ipython3",
   "version": "3.12.7"
  }
 },
 "nbformat": 4,
 "nbformat_minor": 5
}
