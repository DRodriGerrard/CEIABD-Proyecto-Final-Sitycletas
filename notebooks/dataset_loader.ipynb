{
 "cells": [
  {
   "cell_type": "code",
   "execution_count": null,
   "id": "87b50d62",
   "metadata": {},
   "outputs": [
    {
     "name": "stdout",
     "output_type": "stream",
     "text": [
      "Requirement already satisfied: pandas in c:\\users\\devroger\\anaconda3\\lib\\site-packages (from -r ../requirements.txt (line 2)) (2.2.2)\n",
      "Requirement already satisfied: numpy in c:\\users\\devroger\\anaconda3\\lib\\site-packages (from -r ../requirements.txt (line 3)) (1.26.4)\n",
      "Requirement already satisfied: matplotlib in c:\\users\\devroger\\anaconda3\\lib\\site-packages (from -r ../requirements.txt (line 4)) (3.9.2)\n",
      "Requirement already satisfied: seaborn in c:\\users\\devroger\\anaconda3\\lib\\site-packages (from -r ../requirements.txt (line 5)) (0.13.2)\n",
      "Requirement already satisfied: scikit-learn in c:\\users\\devroger\\anaconda3\\lib\\site-packages (from -r ../requirements.txt (line 6)) (1.5.1)\n",
      "Collecting xgboost (from -r ../requirements.txt (line 7))\n",
      "  Downloading xgboost-3.0.1-py3-none-win_amd64.whl.metadata (2.1 kB)\n",
      "Collecting lightgbm (from -r ../requirements.txt (line 8))\n",
      "  Downloading lightgbm-4.6.0-py3-none-win_amd64.whl.metadata (17 kB)\n",
      "Collecting prophet (from -r ../requirements.txt (line 9))\n",
      "  Downloading prophet-1.1.6-py3-none-win_amd64.whl.metadata (3.6 kB)\n",
      "Requirement already satisfied: python-dateutil>=2.8.2 in c:\\users\\devroger\\anaconda3\\lib\\site-packages (from pandas->-r ../requirements.txt (line 2)) (2.9.0.post0)\n",
      "Requirement already satisfied: pytz>=2020.1 in c:\\users\\devroger\\anaconda3\\lib\\site-packages (from pandas->-r ../requirements.txt (line 2)) (2024.1)\n",
      "Requirement already satisfied: tzdata>=2022.7 in c:\\users\\devroger\\anaconda3\\lib\\site-packages (from pandas->-r ../requirements.txt (line 2)) (2023.3)\n",
      "Requirement already satisfied: contourpy>=1.0.1 in c:\\users\\devroger\\anaconda3\\lib\\site-packages (from matplotlib->-r ../requirements.txt (line 4)) (1.2.0)\n",
      "Requirement already satisfied: cycler>=0.10 in c:\\users\\devroger\\anaconda3\\lib\\site-packages (from matplotlib->-r ../requirements.txt (line 4)) (0.11.0)\n",
      "Requirement already satisfied: fonttools>=4.22.0 in c:\\users\\devroger\\anaconda3\\lib\\site-packages (from matplotlib->-r ../requirements.txt (line 4)) (4.51.0)\n",
      "Requirement already satisfied: kiwisolver>=1.3.1 in c:\\users\\devroger\\anaconda3\\lib\\site-packages (from matplotlib->-r ../requirements.txt (line 4)) (1.4.4)\n",
      "Requirement already satisfied: packaging>=20.0 in c:\\users\\devroger\\anaconda3\\lib\\site-packages (from matplotlib->-r ../requirements.txt (line 4)) (24.1)\n",
      "Requirement already satisfied: pillow>=8 in c:\\users\\devroger\\anaconda3\\lib\\site-packages (from matplotlib->-r ../requirements.txt (line 4)) (10.4.0)\n",
      "Requirement already satisfied: pyparsing>=2.3.1 in c:\\users\\devroger\\anaconda3\\lib\\site-packages (from matplotlib->-r ../requirements.txt (line 4)) (3.1.2)\n",
      "Requirement already satisfied: scipy>=1.6.0 in c:\\users\\devroger\\anaconda3\\lib\\site-packages (from scikit-learn->-r ../requirements.txt (line 6)) (1.13.1)\n",
      "Requirement already satisfied: joblib>=1.2.0 in c:\\users\\devroger\\anaconda3\\lib\\site-packages (from scikit-learn->-r ../requirements.txt (line 6)) (1.4.2)\n",
      "Requirement already satisfied: threadpoolctl>=3.1.0 in c:\\users\\devroger\\anaconda3\\lib\\site-packages (from scikit-learn->-r ../requirements.txt (line 6)) (3.5.0)\n",
      "Collecting cmdstanpy>=1.0.4 (from prophet->-r ../requirements.txt (line 9))\n",
      "  Downloading cmdstanpy-1.2.5-py3-none-any.whl.metadata (4.0 kB)\n",
      "Collecting holidays<1,>=0.25 (from prophet->-r ../requirements.txt (line 9))\n",
      "  Downloading holidays-0.72-py3-none-any.whl.metadata (37 kB)\n",
      "Requirement already satisfied: tqdm>=4.36.1 in c:\\users\\devroger\\anaconda3\\lib\\site-packages (from prophet->-r ../requirements.txt (line 9)) (4.66.5)\n",
      "Collecting importlib-resources (from prophet->-r ../requirements.txt (line 9))\n",
      "  Downloading importlib_resources-6.5.2-py3-none-any.whl.metadata (3.9 kB)\n",
      "Collecting stanio<2.0.0,>=0.4.0 (from cmdstanpy>=1.0.4->prophet->-r ../requirements.txt (line 9))\n",
      "  Downloading stanio-0.5.1-py3-none-any.whl.metadata (1.6 kB)\n",
      "Requirement already satisfied: six>=1.5 in c:\\users\\devroger\\anaconda3\\lib\\site-packages (from python-dateutil>=2.8.2->pandas->-r ../requirements.txt (line 2)) (1.16.0)\n",
      "Requirement already satisfied: colorama in c:\\users\\devroger\\anaconda3\\lib\\site-packages (from tqdm>=4.36.1->prophet->-r ../requirements.txt (line 9)) (0.4.6)\n",
      "Downloading xgboost-3.0.1-py3-none-win_amd64.whl (150.0 MB)\n",
      "   ---------------------------------------- 0.0/150.0 MB ? eta -:--:--\n",
      "    --------------------------------------- 2.4/150.0 MB 16.8 MB/s eta 0:00:09\n",
      "   --- ------------------------------------ 14.2/150.0 MB 37.0 MB/s eta 0:00:04\n",
      "   -------- ------------------------------- 30.7/150.0 MB 54.0 MB/s eta 0:00:03\n",
      "   ------------ --------------------------- 47.4/150.0 MB 60.4 MB/s eta 0:00:02\n",
      "   --------------- ------------------------ 58.5/150.0 MB 60.1 MB/s eta 0:00:02\n",
      "   ------------------- -------------------- 73.9/150.0 MB 61.2 MB/s eta 0:00:02\n",
      "   ------------------------ --------------- 90.4/150.0 MB 64.1 MB/s eta 0:00:01\n",
      "   --------------------------- ----------- 104.9/150.0 MB 65.0 MB/s eta 0:00:01\n",
      "   ------------------------------- ------- 119.5/150.0 MB 65.8 MB/s eta 0:00:01\n",
      "   ---------------------------------- ---- 134.5/150.0 MB 66.6 MB/s eta 0:00:01\n",
      "   --------------------------------------  149.4/150.0 MB 67.2 MB/s eta 0:00:01\n",
      "   --------------------------------------  149.9/150.0 MB 67.5 MB/s eta 0:00:01\n",
      "   --------------------------------------- 150.0/150.0 MB 61.4 MB/s eta 0:00:00\n",
      "Downloading lightgbm-4.6.0-py3-none-win_amd64.whl (1.5 MB)\n",
      "   ---------------------------------------- 0.0/1.5 MB ? eta -:--:--\n",
      "   ---------------------------------------- 1.5/1.5 MB 74.3 MB/s eta 0:00:00\n",
      "Downloading prophet-1.1.6-py3-none-win_amd64.whl (13.3 MB)\n",
      "   ---------------------------------------- 0.0/13.3 MB ? eta -:--:--\n",
      "   ---------------------------------------- 13.3/13.3 MB 69.9 MB/s eta 0:00:00\n",
      "Downloading cmdstanpy-1.2.5-py3-none-any.whl (94 kB)\n",
      "Downloading holidays-0.72-py3-none-any.whl (932 kB)\n",
      "   ---------------------------------------- 0.0/932.3 kB ? eta -:--:--\n",
      "   --------------------------------------- 932.3/932.3 kB 41.9 MB/s eta 0:00:00\n",
      "Downloading importlib_resources-6.5.2-py3-none-any.whl (37 kB)\n",
      "Downloading stanio-0.5.1-py3-none-any.whl (8.1 kB)\n",
      "Installing collected packages: stanio, importlib-resources, xgboost, lightgbm, holidays, cmdstanpy, prophet\n",
      "Successfully installed cmdstanpy-1.2.5 holidays-0.72 importlib-resources-6.5.2 lightgbm-4.6.0 prophet-1.1.6 stanio-0.5.1 xgboost-3.0.1\n"
     ]
    }
   ],
   "source": [
    "# Instalar todos los paquetes del requirements.txt desde el notebook\n",
    "%pip install -r ../requirements.txt"
   ]
  },
  {
   "cell_type": "code",
   "execution_count": 9,
   "id": "9c36dd9b",
   "metadata": {},
   "outputs": [],
   "source": [
    "# Ejecuta el script con IPython magic\n",
    "%run ../imports.py"
   ]
  },
  {
   "cell_type": "code",
   "execution_count": 6,
   "id": "616338ab",
   "metadata": {},
   "outputs": [],
   "source": [
    "# Ruta del archivo CSV (ajusta la ruta si es necesario)\n",
    "archivo_csv = '../data/processed/sitycleta_dataset_enriched.csv'"
   ]
  },
  {
   "cell_type": "code",
   "execution_count": 10,
   "id": "013967ad",
   "metadata": {},
   "outputs": [],
   "source": [
    "# Opcional: mejorar tamaño y estilo de gráficos\n",
    "plt.style.use('ggplot')\n",
    "plt.rcParams['figure.figsize'] = (10,6)"
   ]
  },
  {
   "cell_type": "code",
   "execution_count": 11,
   "id": "888fcebb",
   "metadata": {},
   "outputs": [],
   "source": [
    "# 📥 Cargar dataset\n",
    "df = pd.read_csv(archivo_csv)\n",
    "df['Time stamp'] = pd.to_datetime(df['Time stamp'])\n"
   ]
  },
  {
   "cell_type": "code",
   "execution_count": 12,
   "id": "8753ccba",
   "metadata": {},
   "outputs": [
    {
     "name": "stdout",
     "output_type": "stream",
     "text": [
      "👉 Shape del dataset: (1444050, 12)\n",
      "\n",
      "👉 Tipos de datos:\n",
      " Place number        int64\n",
      "Time stamp         object\n",
      "Free bikes          int64\n",
      "hour_of_day         int64\n",
      "day_of_week         int64\n",
      "is_weekend          int64\n",
      "month               int64\n",
      "week_of_year        int64\n",
      "is_holiday          int64\n",
      "temp_c            float64\n",
      "precip_mm         float64\n",
      "wind_speed_kmh    float64\n",
      "dtype: object\n",
      "\n",
      "👉 Valores nulos por columna:\n",
      " Place number          0\n",
      "Time stamp            0\n",
      "Free bikes            0\n",
      "hour_of_day           0\n",
      "day_of_week           0\n",
      "is_weekend            0\n",
      "month                 0\n",
      "week_of_year          0\n",
      "is_holiday            0\n",
      "temp_c             4229\n",
      "precip_mm         71083\n",
      "wind_speed_kmh     4229\n",
      "dtype: int64\n"
     ]
    }
   ],
   "source": [
    "# 1️⃣ Cargar dataset\n",
    "df = pd.read_csv(archivo_csv)\n",
    "\n",
    "# 2️⃣ Comprobar shape y tipos de datos\n",
    "print(\"👉 Shape del dataset:\", df.shape)\n",
    "print(\"\\n👉 Tipos de datos:\\n\", df.dtypes)\n",
    "\n",
    "# 3️⃣ Comprobar valores nulos\n",
    "print(\"\\n👉 Valores nulos por columna:\\n\", df.isnull().sum())"
   ]
  },
  {
   "cell_type": "code",
   "execution_count": 13,
   "id": "f6cdf86e",
   "metadata": {},
   "outputs": [],
   "source": [
    "# en data_loader.ipynb\n",
    "df.to_pickle('sitycleta.pkl')"
   ]
  }
 ],
 "metadata": {
  "kernelspec": {
   "display_name": "base",
   "language": "python",
   "name": "python3"
  },
  "language_info": {
   "codemirror_mode": {
    "name": "ipython",
    "version": 3
   },
   "file_extension": ".py",
   "mimetype": "text/x-python",
   "name": "python",
   "nbconvert_exporter": "python",
   "pygments_lexer": "ipython3",
   "version": "3.12.7"
  }
 },
 "nbformat": 4,
 "nbformat_minor": 5
}
