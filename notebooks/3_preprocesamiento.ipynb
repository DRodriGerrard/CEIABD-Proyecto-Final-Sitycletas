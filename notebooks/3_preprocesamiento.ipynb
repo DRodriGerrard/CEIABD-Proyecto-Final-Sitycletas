{
 "cells": [
  {
   "cell_type": "code",
   "execution_count": 2,
   "id": "071ccb64",
   "metadata": {},
   "outputs": [],
   "source": [
    "%run ../imports.py"
   ]
  },
  {
   "cell_type": "markdown",
   "id": "c53aab81",
   "metadata": {},
   "source": [
    "🔹 1. Cargar dataset y librerías"
   ]
  },
  {
   "cell_type": "code",
   "execution_count": 4,
   "id": "b6527ec0",
   "metadata": {},
   "outputs": [],
   "source": [
    "df = pd.read_csv('../data/processed/sitycleta_dataset_enriched.csv')\n",
    "df['Time stamp'] = pd.to_datetime(df['Time stamp'])"
   ]
  },
  {
   "cell_type": "markdown",
   "id": "72e5aa3d",
   "metadata": {},
   "source": [
    "🧹 2. Tratamiento de valores nulos"
   ]
  },
  {
   "cell_type": "markdown",
   "id": "2cec1291",
   "metadata": {},
   "source": [
    "### Imputación de valores nulos\n",
    "\n",
    "Vamos a imputar:\n",
    "\n",
    "- `temp_c` y `wind_speed_kmh`: usando la **media por estación (`Place number`)**.\n",
    "- `precip_mm`: debido a su alta cantidad de ceros, se imputa con **0** (lluvia no reportada)."
   ]
  },
  {
   "cell_type": "code",
   "execution_count": 5,
   "id": "b2d78d58",
   "metadata": {},
   "outputs": [],
   "source": [
    "# Imputar temp_c y wind_speed_kmh con la media por estación\n",
    "df['temp_c'] = df.groupby('Place number')['temp_c'].transform(lambda x: x.fillna(x.mean()))\n",
    "df['wind_speed_kmh'] = df.groupby('Place number')['wind_speed_kmh'].transform(lambda x: x.fillna(x.mean()))\n",
    "\n",
    "# Imputar precip_mm con 0 (asumiendo ausencia de lluvia)\n",
    "df['precip_mm'] = df['precip_mm'].fillna(0)"
   ]
  },
  {
   "cell_type": "markdown",
   "id": "356a6996",
   "metadata": {},
   "source": [
    "📏 3. Escalado de variables (si se desea)"
   ]
  },
  {
   "cell_type": "markdown",
   "id": "00d821bd",
   "metadata": {},
   "source": [
    "### Escalado de variables\n",
    "\n",
    "Usamos MinMaxScaler para llevar algunas variables numéricas a un rango 0–1 si el modelo lo requiere."
   ]
  },
  {
   "cell_type": "code",
   "execution_count": 7,
   "id": "228b9283",
   "metadata": {},
   "outputs": [],
   "source": [
    "scaler = MinMaxScaler()\n",
    "\n",
    "cols_to_scale = ['temp_c', 'wind_speed_kmh', 'precip_mm']\n",
    "df[cols_to_scale] = scaler.fit_transform(df[cols_to_scale])"
   ]
  },
  {
   "cell_type": "markdown",
   "id": "c351f15a",
   "metadata": {},
   "source": [
    "🧩 4. Crear dataset global (o por estación)"
   ]
  },
  {
   "cell_type": "markdown",
   "id": "24412c6c",
   "metadata": {},
   "source": [
    "### Dataset global vs por estación\n",
    "\n",
    "De momento trabajaremos con un dataset global. Si más adelante se detectan patrones específicos por estación, se dividirá."
   ]
  },
  {
   "cell_type": "code",
   "execution_count": null,
   "id": "bca6bb87",
   "metadata": {},
   "outputs": [],
   "source": []
  },
  {
   "cell_type": "markdown",
   "id": "b3215ba0",
   "metadata": {},
   "source": [
    "🔁 5. Generar variables lag y rolling (opcional)"
   ]
  },
  {
   "cell_type": "markdown",
   "id": "d47ed245",
   "metadata": {},
   "source": [
    "### Generar `lag features` y medias móviles\n",
    "\n",
    "Esto ayuda a capturar el comportamiento reciente de la estación."
   ]
  },
  {
   "cell_type": "code",
   "execution_count": 8,
   "id": "722369b8",
   "metadata": {},
   "outputs": [],
   "source": [
    "# Ordenar por estación y tiempo\n",
    "df = df.sort_values(by=['Place number', 'Time stamp'])\n",
    "\n",
    "# Generar lag de 1 y media móvil de 3\n",
    "df['free_bikes_lag1'] = df.groupby('Place number')['Free bikes'].shift(1)\n",
    "df['free_bikes_roll3'] = df.groupby('Place number')['Free bikes'].rolling(window=3).mean().reset_index(0, drop=True)"
   ]
  },
  {
   "cell_type": "markdown",
   "id": "a1ad74d7",
   "metadata": {},
   "source": [
    "💾 6. Guardar dataset preprocesado"
   ]
  },
  {
   "cell_type": "code",
   "execution_count": null,
   "id": "11016d04",
   "metadata": {},
   "outputs": [],
   "source": [
    "df.to_csv('../data/processed/sitycleta_preprocessed.csv', index=False)"
   ]
  },
  {
   "cell_type": "markdown",
   "id": "744241b4",
   "metadata": {},
   "source": [
    "## ✅ Conclusiones del Preprocesamiento\n",
    "\n",
    "### ✔️ Tratamiento de valores nulos\n",
    "- `temp_c` y `wind_speed_kmh` se imputaron usando la **media por estación** (`Place number`).\n",
    "- `precip_mm` se imputó con **0**, asumiendo ausencia de lluvia cuando no hay registro.\n",
    "\n",
    "### ✔️ Escalado de variables\n",
    "- Se aplicó `MinMaxScaler` a las variables meteorológicas: `temp_c`, `wind_speed_kmh`, `precip_mm`.\n",
    "\n",
    "### ✔️ Construcción del dataset\n",
    "- Se trabajó inicialmente con un **dataset global**, sin dividir por estación.\n",
    "- Se dejó abierta la posibilidad de modelar por estación si los resultados lo sugieren.\n",
    "\n",
    "### ✔️ Variables adicionales\n",
    "- Se generaron dos variables temporales:\n",
    "  - `free_bikes_lag1` → valor anterior de bicicletas libres por estación.\n",
    "  - `free_bikes_roll3` → media móvil de 3 pasos por estación."
   ]
  },
  {
   "cell_type": "markdown",
   "id": "ff83f8f7",
   "metadata": {},
   "source": [
    "🔍 7. Comparar shape y columnas"
   ]
  },
  {
   "cell_type": "code",
   "execution_count": 12,
   "id": "d66bc1fe",
   "metadata": {},
   "outputs": [],
   "source": [
    "# Dataset original (sin tratar)\n",
    "df_original = pd.read_csv('../data/processed/sitycleta_dataset_enriched.csv')\n",
    "\n",
    "# Dataset preprocesado\n",
    "df_pre = pd.read_csv('../data/processed/sitycleta_preprocessed.csv')"
   ]
  },
  {
   "cell_type": "markdown",
   "id": "ee3776dd",
   "metadata": {},
   "source": [
    "📊 8. Comprobar valores nulos antes vs después"
   ]
  },
  {
   "cell_type": "code",
   "execution_count": 13,
   "id": "e88224fd",
   "metadata": {},
   "outputs": [
    {
     "name": "stdout",
     "output_type": "stream",
     "text": [
      "👉 Dataset original: (1444050, 12)\n",
      "👉 Dataset preprocesado: (1444050, 14)\n",
      "\n",
      "✅ Columnas nuevas en el dataset preprocesado:\n",
      "{'free_bikes_lag1', 'free_bikes_roll3'}\n"
     ]
    }
   ],
   "source": [
    "print(\"👉 Dataset original:\", df_original.shape)\n",
    "print(\"👉 Dataset preprocesado:\", df_pre.shape)\n",
    "\n",
    "print(\"\\n✅ Columnas nuevas en el dataset preprocesado:\")\n",
    "print(set(df_pre.columns) - set(df_original.columns))"
   ]
  },
  {
   "cell_type": "markdown",
   "id": "e22227aa",
   "metadata": {},
   "source": [
    "📈 9. Comparar estadísticas generales"
   ]
  },
  {
   "cell_type": "code",
   "execution_count": 15,
   "id": "ba29932b",
   "metadata": {},
   "outputs": [
    {
     "data": {
      "text/html": [
       "<div>\n",
       "<style scoped>\n",
       "    .dataframe tbody tr th:only-of-type {\n",
       "        vertical-align: middle;\n",
       "    }\n",
       "\n",
       "    .dataframe tbody tr th {\n",
       "        vertical-align: top;\n",
       "    }\n",
       "\n",
       "    .dataframe thead th {\n",
       "        text-align: right;\n",
       "    }\n",
       "</style>\n",
       "<table border=\"1\" class=\"dataframe\">\n",
       "  <thead>\n",
       "    <tr style=\"text-align: right;\">\n",
       "      <th></th>\n",
       "      <th>temp_c</th>\n",
       "      <th>precip_mm</th>\n",
       "      <th>wind_speed_kmh</th>\n",
       "      <th>Free bikes</th>\n",
       "    </tr>\n",
       "  </thead>\n",
       "  <tbody>\n",
       "    <tr>\n",
       "      <th>count</th>\n",
       "      <td>1.439821e+06</td>\n",
       "      <td>1.372967e+06</td>\n",
       "      <td>1.439821e+06</td>\n",
       "      <td>1.444050e+06</td>\n",
       "    </tr>\n",
       "    <tr>\n",
       "      <th>mean</th>\n",
       "      <td>2.210028e+01</td>\n",
       "      <td>1.830656e-02</td>\n",
       "      <td>2.694219e+01</td>\n",
       "      <td>5.055425e+00</td>\n",
       "    </tr>\n",
       "    <tr>\n",
       "      <th>std</th>\n",
       "      <td>2.732414e+00</td>\n",
       "      <td>1.133057e-01</td>\n",
       "      <td>1.405587e+01</td>\n",
       "      <td>3.381834e+00</td>\n",
       "    </tr>\n",
       "    <tr>\n",
       "      <th>min</th>\n",
       "      <td>1.340000e+01</td>\n",
       "      <td>0.000000e+00</td>\n",
       "      <td>0.000000e+00</td>\n",
       "      <td>0.000000e+00</td>\n",
       "    </tr>\n",
       "    <tr>\n",
       "      <th>25%</th>\n",
       "      <td>2.010000e+01</td>\n",
       "      <td>0.000000e+00</td>\n",
       "      <td>1.480000e+01</td>\n",
       "      <td>3.000000e+00</td>\n",
       "    </tr>\n",
       "    <tr>\n",
       "      <th>50%</th>\n",
       "      <td>2.200000e+01</td>\n",
       "      <td>0.000000e+00</td>\n",
       "      <td>2.770000e+01</td>\n",
       "      <td>5.000000e+00</td>\n",
       "    </tr>\n",
       "    <tr>\n",
       "      <th>75%</th>\n",
       "      <td>2.390000e+01</td>\n",
       "      <td>0.000000e+00</td>\n",
       "      <td>3.890000e+01</td>\n",
       "      <td>7.000000e+00</td>\n",
       "    </tr>\n",
       "    <tr>\n",
       "      <th>max</th>\n",
       "      <td>3.450000e+01</td>\n",
       "      <td>3.300000e+00</td>\n",
       "      <td>6.480000e+01</td>\n",
       "      <td>6.100000e+01</td>\n",
       "    </tr>\n",
       "  </tbody>\n",
       "</table>\n",
       "</div>"
      ],
      "text/plain": [
       "             temp_c     precip_mm  wind_speed_kmh    Free bikes\n",
       "count  1.439821e+06  1.372967e+06    1.439821e+06  1.444050e+06\n",
       "mean   2.210028e+01  1.830656e-02    2.694219e+01  5.055425e+00\n",
       "std    2.732414e+00  1.133057e-01    1.405587e+01  3.381834e+00\n",
       "min    1.340000e+01  0.000000e+00    0.000000e+00  0.000000e+00\n",
       "25%    2.010000e+01  0.000000e+00    1.480000e+01  3.000000e+00\n",
       "50%    2.200000e+01  0.000000e+00    2.770000e+01  5.000000e+00\n",
       "75%    2.390000e+01  0.000000e+00    3.890000e+01  7.000000e+00\n",
       "max    3.450000e+01  3.300000e+00    6.480000e+01  6.100000e+01"
      ]
     },
     "execution_count": 15,
     "metadata": {},
     "output_type": "execute_result"
    }
   ],
   "source": [
    "# Mostrar resumen estadístico de columnas clave\n",
    "cols_to_check = ['temp_c', 'precip_mm', 'wind_speed_kmh', 'Free bikes']\n",
    "df_original[cols_to_check].describe()"
   ]
  },
  {
   "cell_type": "code",
   "execution_count": 16,
   "id": "6e3026c8",
   "metadata": {},
   "outputs": [
    {
     "data": {
      "text/html": [
       "<div>\n",
       "<style scoped>\n",
       "    .dataframe tbody tr th:only-of-type {\n",
       "        vertical-align: middle;\n",
       "    }\n",
       "\n",
       "    .dataframe tbody tr th {\n",
       "        vertical-align: top;\n",
       "    }\n",
       "\n",
       "    .dataframe thead th {\n",
       "        text-align: right;\n",
       "    }\n",
       "</style>\n",
       "<table border=\"1\" class=\"dataframe\">\n",
       "  <thead>\n",
       "    <tr style=\"text-align: right;\">\n",
       "      <th></th>\n",
       "      <th>temp_c</th>\n",
       "      <th>precip_mm</th>\n",
       "      <th>wind_speed_kmh</th>\n",
       "      <th>Free bikes</th>\n",
       "    </tr>\n",
       "  </thead>\n",
       "  <tbody>\n",
       "    <tr>\n",
       "      <th>count</th>\n",
       "      <td>1.444050e+06</td>\n",
       "      <td>1.444050e+06</td>\n",
       "      <td>1.444050e+06</td>\n",
       "      <td>1.444050e+06</td>\n",
       "    </tr>\n",
       "    <tr>\n",
       "      <th>mean</th>\n",
       "      <td>4.123293e-01</td>\n",
       "      <td>5.274370e-03</td>\n",
       "      <td>4.157837e-01</td>\n",
       "      <td>5.055425e+00</td>\n",
       "    </tr>\n",
       "    <tr>\n",
       "      <th>std</th>\n",
       "      <td>1.293097e-01</td>\n",
       "      <td>3.350083e-02</td>\n",
       "      <td>2.165949e-01</td>\n",
       "      <td>3.381834e+00</td>\n",
       "    </tr>\n",
       "    <tr>\n",
       "      <th>min</th>\n",
       "      <td>0.000000e+00</td>\n",
       "      <td>0.000000e+00</td>\n",
       "      <td>0.000000e+00</td>\n",
       "      <td>0.000000e+00</td>\n",
       "    </tr>\n",
       "    <tr>\n",
       "      <th>25%</th>\n",
       "      <td>3.175355e-01</td>\n",
       "      <td>0.000000e+00</td>\n",
       "      <td>2.283951e-01</td>\n",
       "      <td>3.000000e+00</td>\n",
       "    </tr>\n",
       "    <tr>\n",
       "      <th>50%</th>\n",
       "      <td>4.075829e-01</td>\n",
       "      <td>0.000000e+00</td>\n",
       "      <td>4.274691e-01</td>\n",
       "      <td>5.000000e+00</td>\n",
       "    </tr>\n",
       "    <tr>\n",
       "      <th>75%</th>\n",
       "      <td>4.976303e-01</td>\n",
       "      <td>0.000000e+00</td>\n",
       "      <td>6.003086e-01</td>\n",
       "      <td>7.000000e+00</td>\n",
       "    </tr>\n",
       "    <tr>\n",
       "      <th>max</th>\n",
       "      <td>1.000000e+00</td>\n",
       "      <td>1.000000e+00</td>\n",
       "      <td>1.000000e+00</td>\n",
       "      <td>6.100000e+01</td>\n",
       "    </tr>\n",
       "  </tbody>\n",
       "</table>\n",
       "</div>"
      ],
      "text/plain": [
       "             temp_c     precip_mm  wind_speed_kmh    Free bikes\n",
       "count  1.444050e+06  1.444050e+06    1.444050e+06  1.444050e+06\n",
       "mean   4.123293e-01  5.274370e-03    4.157837e-01  5.055425e+00\n",
       "std    1.293097e-01  3.350083e-02    2.165949e-01  3.381834e+00\n",
       "min    0.000000e+00  0.000000e+00    0.000000e+00  0.000000e+00\n",
       "25%    3.175355e-01  0.000000e+00    2.283951e-01  3.000000e+00\n",
       "50%    4.075829e-01  0.000000e+00    4.274691e-01  5.000000e+00\n",
       "75%    4.976303e-01  0.000000e+00    6.003086e-01  7.000000e+00\n",
       "max    1.000000e+00  1.000000e+00    1.000000e+00  6.100000e+01"
      ]
     },
     "execution_count": 16,
     "metadata": {},
     "output_type": "execute_result"
    }
   ],
   "source": [
    "df_pre[cols_to_check].describe()"
   ]
  },
  {
   "cell_type": "markdown",
   "id": "14e0ef42",
   "metadata": {},
   "source": [
    "📉 10. Ver ejemplos de valores imputados y escalados"
   ]
  },
  {
   "cell_type": "code",
   "execution_count": 17,
   "id": "5d58ca22",
   "metadata": {},
   "outputs": [
    {
     "data": {
      "text/html": [
       "<div>\n",
       "<style scoped>\n",
       "    .dataframe tbody tr th:only-of-type {\n",
       "        vertical-align: middle;\n",
       "    }\n",
       "\n",
       "    .dataframe tbody tr th {\n",
       "        vertical-align: top;\n",
       "    }\n",
       "\n",
       "    .dataframe thead th {\n",
       "        text-align: right;\n",
       "    }\n",
       "</style>\n",
       "<table border=\"1\" class=\"dataframe\">\n",
       "  <thead>\n",
       "    <tr style=\"text-align: right;\">\n",
       "      <th></th>\n",
       "      <th>Time stamp</th>\n",
       "      <th>temp_c</th>\n",
       "      <th>precip_mm</th>\n",
       "      <th>wind_speed_kmh</th>\n",
       "    </tr>\n",
       "  </thead>\n",
       "  <tbody>\n",
       "  </tbody>\n",
       "</table>\n",
       "</div>"
      ],
      "text/plain": [
       "Empty DataFrame\n",
       "Columns: [Time stamp, temp_c, precip_mm, wind_speed_kmh]\n",
       "Index: []"
      ]
     },
     "execution_count": 17,
     "metadata": {},
     "output_type": "execute_result"
    }
   ],
   "source": [
    "# Ejemplo antes y después en una estación concreta\n",
    "ejemplo = 1001  # ID de estación arbitrario\n",
    "\n",
    "df_original[df_original['Place number'] == ejemplo][['Time stamp', 'temp_c', 'precip_mm', 'wind_speed_kmh']].head(5)"
   ]
  },
  {
   "cell_type": "code",
   "execution_count": 18,
   "id": "20a9eab9",
   "metadata": {},
   "outputs": [
    {
     "data": {
      "text/html": [
       "<div>\n",
       "<style scoped>\n",
       "    .dataframe tbody tr th:only-of-type {\n",
       "        vertical-align: middle;\n",
       "    }\n",
       "\n",
       "    .dataframe tbody tr th {\n",
       "        vertical-align: top;\n",
       "    }\n",
       "\n",
       "    .dataframe thead th {\n",
       "        text-align: right;\n",
       "    }\n",
       "</style>\n",
       "<table border=\"1\" class=\"dataframe\">\n",
       "  <thead>\n",
       "    <tr style=\"text-align: right;\">\n",
       "      <th></th>\n",
       "      <th>Time stamp</th>\n",
       "      <th>temp_c</th>\n",
       "      <th>precip_mm</th>\n",
       "      <th>wind_speed_kmh</th>\n",
       "    </tr>\n",
       "  </thead>\n",
       "  <tbody>\n",
       "  </tbody>\n",
       "</table>\n",
       "</div>"
      ],
      "text/plain": [
       "Empty DataFrame\n",
       "Columns: [Time stamp, temp_c, precip_mm, wind_speed_kmh]\n",
       "Index: []"
      ]
     },
     "execution_count": 18,
     "metadata": {},
     "output_type": "execute_result"
    }
   ],
   "source": [
    "df_pre[df_pre['Place number'] == ejemplo][['Time stamp', 'temp_c', 'precip_mm', 'wind_speed_kmh']].head(5)"
   ]
  },
  {
   "cell_type": "markdown",
   "id": "58f7ab63",
   "metadata": {},
   "source": [
    "## 🔍 Comparación: Dataset original vs preprocesado\n",
    "\n",
    "### 🧾 1. Cambios estructurales\n",
    "\n",
    "- **Tamaño:** Ambos datasets tienen **1.444.050 registros** → no se eliminaron datos.\n",
    "- **Nuevas columnas añadidas:**\n",
    "  - `free_bikes_lag1`: valor de bicicletas libres en el instante anterior.\n",
    "  - `free_bikes_roll3`: media móvil de 3 observaciones anteriores por estación.\n",
    "\n",
    "Total columnas:\n",
    "- Original → 12\n",
    "- Preprocesado → 14 ✅\n",
    "\n",
    "---\n",
    "\n",
    "### 🧹 2. Valores nulos\n",
    "\n",
    "- En el dataset original había **valores nulos en:**\n",
    "  - `temp_c` (~4.229)\n",
    "  - `wind_speed_kmh` (~4.229)\n",
    "  - `precip_mm` (~71.083)\n",
    "- En el dataset preprocesado, **no quedan nulos** ✅\n",
    "\n",
    "---\n",
    "\n",
    "### ⚙️ 3. Estadísticas antes y después\n",
    "\n",
    "#### Temperatura (`temp_c`)\n",
    "- Antes: media ≈ **22.1°C**, valores reales entre 13.4 y 34.5.\n",
    "- Después: escalada entre **0.0 y 1.0**, con media ≈ **0.41**.\n",
    "\n",
    "#### Precipitación (`precip_mm`)\n",
    "- Antes: valores muy bajos, mayoría 0.0, con algunos máximos de 3.3 mm.\n",
    "- Después: escalada a 0–1, manteniendo la asimetría y la predominancia de ceros.\n",
    "\n",
    "#### Viento (`wind_speed_kmh`)\n",
    "- Antes: media ≈ **26.9 km/h**, con outliers hasta ~65 km/h.\n",
    "- Después: valores escalados entre **0.0 y 1.0**, con media ≈ **0.42**.\n",
    "\n",
    "#### Free bikes\n",
    "- No se ha modificado. Las estadísticas son exactamente iguales ✅\n",
    "\n",
    "---\n",
    "\n",
    "### 🧪 4. Ejemplo por estación\n",
    "\n",
    "- Se compararon datos de una estación (`Place number` = 1001).\n",
    "- Se verificaron cambios en imputaciones y escalado: las transformaciones fueron aplicadas correctamente.\n",
    "\n",
    "---\n",
    "\n",
    "### ✅ Conclusión\n",
    "\n",
    "- Se han imputado correctamente los valores nulos.\n",
    "- Las variables meteorológicas han sido escaladas sin pérdida de información.\n",
    "- Se añadieron dos variables temporales (`lag` y `rolling`) útiles para el modelado temporal.\n",
    "- El dataset preprocesado está **limpio, completo y listo** para dividir en entrenamiento/test."
   ]
  }
 ],
 "metadata": {
  "kernelspec": {
   "display_name": "base",
   "language": "python",
   "name": "python3"
  },
  "language_info": {
   "codemirror_mode": {
    "name": "ipython",
    "version": 3
   },
   "file_extension": ".py",
   "mimetype": "text/x-python",
   "name": "python",
   "nbconvert_exporter": "python",
   "pygments_lexer": "ipython3",
   "version": "3.12.7"
  }
 },
 "nbformat": 4,
 "nbformat_minor": 5
}
