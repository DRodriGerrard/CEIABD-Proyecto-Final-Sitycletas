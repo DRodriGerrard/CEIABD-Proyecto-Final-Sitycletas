{
 "cells": [
  {
   "cell_type": "code",
   "execution_count": 2,
   "id": "071ccb64",
   "metadata": {},
   "outputs": [],
   "source": [
    "%run ../imports.py"
   ]
  },
  {
   "cell_type": "code",
   "execution_count": 4,
   "id": "b6527ec0",
   "metadata": {},
   "outputs": [],
   "source": [
    "df = pd.read_csv('../data/processed/sitycleta_dataset_enriched.csv')\n",
    "df['Time stamp'] = pd.to_datetime(df['Time stamp'])"
   ]
  }
 ],
 "metadata": {
  "kernelspec": {
   "display_name": "base",
   "language": "python",
   "name": "python3"
  },
  "language_info": {
   "codemirror_mode": {
    "name": "ipython",
    "version": 3
   },
   "file_extension": ".py",
   "mimetype": "text/x-python",
   "name": "python",
   "nbconvert_exporter": "python",
   "pygments_lexer": "ipython3",
   "version": "3.12.7"
  }
 },
 "nbformat": 4,
 "nbformat_minor": 5
}
