{
 "cells": [
  {
   "cell_type": "code",
   "execution_count": 1,
   "id": "3419246b",
   "metadata": {},
   "outputs": [],
   "source": [
    "%run ../imports.py"
   ]
  },
  {
   "cell_type": "markdown",
   "id": "396dc347",
   "metadata": {},
   "source": [
    "🧭 1. Cargar dataset preprocesado"
   ]
  },
  {
   "cell_type": "code",
   "execution_count": 3,
   "id": "cada5717",
   "metadata": {},
   "outputs": [],
   "source": [
    "df = pd.read_csv('../data/processed/sitycleta_preprocessed.csv')\n",
    "df['Time stamp'] = pd.to_datetime(df['Time stamp'])"
   ]
  },
  {
   "cell_type": "markdown",
   "id": "c3641856",
   "metadata": {},
   "source": [
    "🕒 2. Filtrar por fechas"
   ]
  },
  {
   "cell_type": "code",
   "execution_count": 4,
   "id": "72d24e8d",
   "metadata": {},
   "outputs": [],
   "source": [
    "# Definir rangos de fechas\n",
    "fecha_inicio_train = pd.to_datetime(\"2023-12-01\")\n",
    "fecha_fin_train = pd.to_datetime(\"2025-03-31\")\n",
    "fecha_inicio_test = pd.to_datetime(\"2025-04-01\")\n",
    "fecha_fin_test = pd.to_datetime(\"2025-04-30\")\n",
    "\n",
    "# Crear subconjuntos\n",
    "df_train = df[(df['Time stamp'] >= fecha_inicio_train) & (df['Time stamp'] <= fecha_fin_train)].copy()\n",
    "df_test = df[(df['Time stamp'] >= fecha_inicio_test) & (df['Time stamp'] <= fecha_fin_test)].copy()"
   ]
  },
  {
   "cell_type": "markdown",
   "id": "861e2983",
   "metadata": {},
   "source": [
    "📦 3. Validaciones básicas"
   ]
  },
  {
   "cell_type": "code",
   "execution_count": 5,
   "id": "d16dde8f",
   "metadata": {},
   "outputs": [
    {
     "name": "stdout",
     "output_type": "stream",
     "text": [
      "Entrenamiento: (1335287, 14)\n",
      "Test: (100679, 14)\n",
      "\n",
      "Rango fechas train: 2023-12-01 00:06:00 → 2025-03-30 23:47:00\n",
      "Rango fechas test: 2025-04-01 01:51:00 → 2025-04-29 23:41:00\n"
     ]
    }
   ],
   "source": [
    "print(\"Entrenamiento:\", df_train.shape)\n",
    "print(\"Test:\", df_test.shape)\n",
    "\n",
    "print(\"\\nRango fechas train:\", df_train['Time stamp'].min(), \"→\", df_train['Time stamp'].max())\n",
    "print(\"Rango fechas test:\", df_test['Time stamp'].min(), \"→\", df_test['Time stamp'].max())"
   ]
  },
  {
   "cell_type": "markdown",
   "id": "bc5501bd",
   "metadata": {},
   "source": [
    "🔒 4. Verificar ausencia de fuga de datos"
   ]
  },
  {
   "cell_type": "code",
   "execution_count": 6,
   "id": "6ec0a350",
   "metadata": {},
   "outputs": [
    {
     "name": "stdout",
     "output_type": "stream",
     "text": [
      "Número de registros con fechas duplicadas entre Train y Test: 0\n"
     ]
    }
   ],
   "source": [
    "# Buscar overlap en fechas\n",
    "fechas_overlap = df_train['Time stamp'].isin(df_test['Time stamp']).sum()\n",
    "print(f\"Número de registros con fechas duplicadas entre Train y Test: {fechas_overlap}\")"
   ]
  },
  {
   "cell_type": "markdown",
   "id": "11bb60f2",
   "metadata": {},
   "source": [
    "💾 5. Guardar subconjuntos"
   ]
  },
  {
   "cell_type": "code",
   "execution_count": 9,
   "id": "a47135fc",
   "metadata": {},
   "outputs": [],
   "source": [
    "df_train.to_csv('../data/train/sitycleta_train.csv', index=False)\n",
    "df_test.to_csv('../data/test/sitycleta_test.csv', index=False)"
   ]
  },
  {
   "cell_type": "markdown",
   "id": "00dbd31e",
   "metadata": {},
   "source": [
    "## ✅ División Train/Test por fechas\n",
    "\n",
    "- Se ha dividido el dataset según los siguientes rangos:\n",
    "  - **Train:** desde diciembre 2023 hasta marzo 2025.\n",
    "  - **Test:** todo abril de 2025.\n",
    "- Se ha comprobado que no existe solapamiento entre los subconjuntos.\n",
    "- El conjunto de entrenamiento contiene los datos necesarios para ajustar los modelos sin conocer el futuro.\n",
    "- Los datasets se han guardado como:\n",
    "  - `sitycleta_train.csv`\n",
    "  - `sitycleta_test.csv`"
   ]
  }
 ],
 "metadata": {
  "kernelspec": {
   "display_name": "base",
   "language": "python",
   "name": "python3"
  },
  "language_info": {
   "codemirror_mode": {
    "name": "ipython",
    "version": 3
   },
   "file_extension": ".py",
   "mimetype": "text/x-python",
   "name": "python",
   "nbconvert_exporter": "python",
   "pygments_lexer": "ipython3",
   "version": "3.12.7"
  }
 },
 "nbformat": 4,
 "nbformat_minor": 5
}
